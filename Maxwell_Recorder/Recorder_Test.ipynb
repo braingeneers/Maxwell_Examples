{
 "cells": [
  {
   "cell_type": "markdown",
   "id": "acad6027",
   "metadata": {},
   "source": [
    "<font face=\"Courier\" size=7 >Maxwell Recorder"
   ]
  },
  {
   "cell_type": "markdown",
   "id": "849e7410",
   "metadata": {},
   "source": [
    "# <font color=\"grey\">Import Packages"
   ]
  },
  {
   "cell_type": "markdown",
   "id": "aed39b5c",
   "metadata": {},
   "source": [
    "The `braingeneers` package is made by the [braingeneers research group](https://braingeneers.ucsc.edu/). It's what we use for analysis"
   ]
  },
  {
   "cell_type": "code",
   "execution_count": null,
   "id": "169cc9b9",
   "metadata": {},
   "outputs": [],
   "source": [
    "import braingeneers"
   ]
  },
  {
   "cell_type": "markdown",
   "id": "854b89df",
   "metadata": {},
   "source": [
    "`ipywidets` is used to create the gui interface."
   ]
  },
  {
   "cell_type": "code",
   "execution_count": null,
   "id": "e50271e2",
   "metadata": {},
   "outputs": [],
   "source": [
    "import ipywidgets as ipw"
   ]
  },
  {
   "cell_type": "markdown",
   "id": "50c8b7ed",
   "metadata": {},
   "source": [
    "the `maxlab` packages are created by [Maxwell](https://www.mxwbio.com/technology/?gclid=Cj0KCQjwuMuRBhCJARIsAHXdnqMNvuyVN-fyhkVVw9w5qRCUAZJFo-CFOzfwKaceDYf09fNSyYAd70AaAkl5EALw_wcB) to control the `MaxOne`"
   ]
  },
  {
   "cell_type": "code",
   "execution_count": null,
   "id": "c7fca0c6",
   "metadata": {},
   "outputs": [],
   "source": [
    "import maxlab\n",
    "import maxlab.system\n",
    "import maxlab.chip\n",
    "import maxlab.util\n",
    "import maxlab.saving"
   ]
  },
  {
   "cell_type": "markdown",
   "id": "14a6a22b",
   "metadata": {},
   "source": [
    "Import generic python packages"
   ]
  },
  {
   "cell_type": "code",
   "execution_count": null,
   "id": "875619ae",
   "metadata": {},
   "outputs": [],
   "source": [
    "import os\n",
    "import tempfile\n",
    "import time"
   ]
  },
  {
   "cell_type": "code",
   "execution_count": null,
   "id": "c14eec31",
   "metadata": {},
   "outputs": [],
   "source": [
    "# Code no longer needed\n",
    "#port = 7215"
   ]
  },
  {
   "cell_type": "markdown",
   "id": "530c1dc1",
   "metadata": {},
   "source": [
    "## <font color=\"gray\">Helper function"
   ]
  },
  {
   "cell_type": "markdown",
   "id": "755c36c0",
   "metadata": {},
   "source": [
    "This function is sometimes userful when debugging code in the <font color=\"magenta\">Electrode Configurater Section</font>. It is not used in the final app at all"
   ]
  },
  {
   "cell_type": "code",
   "execution_count": null,
   "id": "e7f8537e",
   "metadata": {},
   "outputs": [],
   "source": [
    "def numToGrid(num):\n",
    "    return num//220, num%220"
   ]
  },
  {
   "cell_type": "code",
   "execution_count": null,
   "id": "e4199131",
   "metadata": {},
   "outputs": [],
   "source": [
    "#numToGrid(226)"
   ]
  },
  {
   "cell_type": "markdown",
   "id": "a0803c7b",
   "metadata": {},
   "source": [
    "# <font color=\"blue\">recordActivity Function "
   ]
  },
  {
   "cell_type": "markdown",
   "id": "67b6195c",
   "metadata": {},
   "source": [
    "<font color=\"blue\">recordActivity</font> does one recording from a selection of electrodes that is passed into the function."
   ]
  },
  {
   "cell_type": "markdown",
   "id": "9c339460",
   "metadata": {},
   "source": [
    "The code in this section originally came from [this notebook](/notebooks/Projects/Maxwell_Controller/recorder/Maxwell%20Recorder%20Source%20Code.ipynb)"
   ]
  },
  {
   "cell_type": "code",
   "execution_count": null,
   "id": "79efa25a",
   "metadata": {},
   "outputs": [],
   "source": [
    "def recordActivity(electrodes, recording_file_name=\"scan\", recording_length=20, gain=512, record_only_spikes=True,\n",
    "                   data_path=\"/home/mxwbio/wetai/homepage/Projects/Maxwell_Activity_Scanner/data\"):\n",
    "    \n",
    "    #print(\"recording electrodes for \"+str(recording_length)+\" seconds\")\n",
    "    maxlab.util.initialize()                                # Initialize Maxwell\n",
    "    maxlab.send( maxlab.chip.Amplifier().set_gain(gain) )   # Set Gain\n",
    "    \n",
    "    array = maxlab.chip.Array('online')     # Load Electrodes\n",
    "    array.reset()\n",
    "    array.select_electrodes( electrodes )\n",
    "    array.route()                           #This might be necessary, but not sure\n",
    "    array.download()\n",
    "    maxlab.util.offset()   \n",
    "    \n",
    "    s = maxlab.saving.Saving()             # Set up file and wells for recording, \n",
    "    s.open_directory(data_path)            # I don't fully understand this code, it's taken from an example\n",
    "    s.set_legacy_format(True)\n",
    "    s.group_delete_all()\n",
    "    \n",
    "    if not record_only_spikes:             # start recording and save results\n",
    "        s.group_define(0, \"routed\")\n",
    "    s.start_file(recording_file_name)\n",
    "    #print(\"Recording Started\")\n",
    "    s.start_recording( range(1) )\n",
    "    time.sleep(recording_length)           # Wait the amount of time that the user want the experiment to run for\n",
    "    #print(\"Saving Results\")\n",
    "    s.stop_recording()\n",
    "    s.stop_file()\n",
    "    s.group_delete_all()\n",
    "    #print(\"Finished\")"
   ]
  },
  {
   "cell_type": "code",
   "execution_count": null,
   "id": "a6d9a65e",
   "metadata": {},
   "outputs": [],
   "source": [
    "#recordActivity(list(range(1024)))"
   ]
  },
  {
   "cell_type": "markdown",
   "id": "1a0f7f48",
   "metadata": {},
   "source": [
    "# <font color=\"brown\">Scratch Paper"
   ]
  },
  {
   "cell_type": "markdown",
   "id": "d97735d9",
   "metadata": {},
   "source": [
    "Run code one piece at a time to see it work. Uncomment the code to do this. To uncomment code, enter the cell and type `CMD-a CMD-/`"
   ]
  },
  {
   "cell_type": "code",
   "execution_count": null,
   "id": "3370efd0",
   "metadata": {},
   "outputs": [],
   "source": [
    "# electrodes=[47,80]\n",
    "# recording_file_name=\"scan_test\"\n",
    "# recording_length=20\n",
    "# gain=512\n",
    "# record_only_spikes=True\n",
    "# #data_path=\"/home/jovyan/Projects/Test_Maxwell/data\"\n",
    "# data_path=\"/home/mxwbio/wetai/Data\""
   ]
  },
  {
   "cell_type": "markdown",
   "id": "303040de",
   "metadata": {},
   "source": [
    "Actual code for recroding"
   ]
  },
  {
   "cell_type": "code",
   "execution_count": null,
   "id": "c1d500c7",
   "metadata": {},
   "outputs": [],
   "source": [
    "# #print(\"recording electrodes for \"+str(recording_length)+\" seconds\")\n",
    "# maxlab.util.initialize()                                # Initialize Maxwell\n",
    "# maxlab.send( maxlab.chip.Amplifier().set_gain(gain) )   # Set Gain\n"
   ]
  },
  {
   "cell_type": "code",
   "execution_count": null,
   "id": "f483679e",
   "metadata": {},
   "outputs": [],
   "source": [
    "# array = maxlab.chip.Array('online')     # Load Electrodes\n",
    "# array.reset()\n",
    "# array.select_electrodes( electrodes )\n",
    "# array.route()                           #This might be necessary, but not sure\n",
    "# array.download()\n",
    "# maxlab.util.offset()   \n"
   ]
  },
  {
   "cell_type": "code",
   "execution_count": null,
   "id": "66cf8268",
   "metadata": {},
   "outputs": [],
   "source": [
    " \n",
    "# s = maxlab.saving.Saving()             # Set up file and wells for recording, \n",
    "# s.open_directory(data_path)            # I don't fully understand this code, it's taken from an example\n",
    "# s.set_legacy_format(True)\n",
    "# s.group_delete_all()"
   ]
  },
  {
   "cell_type": "code",
   "execution_count": null,
   "id": "2e596e25",
   "metadata": {},
   "outputs": [],
   "source": [
    "# if not record_only_spikes:             # start recording and save results\n",
    "#     s.group_define(0, \"routed\")\n",
    "# s.start_file(recording_file_name)\n",
    "# #print(\"Recording Started\")\n",
    "# s.start_recording( range(1) )\n",
    "# time.sleep(recording_length)\n",
    "# #print(\"Saving Results\")\n",
    "# s.stop_recording()\n",
    "# s.stop_file()\n",
    "# s.group_delete_all()\n",
    "# #print(\"Finished\")"
   ]
  },
  {
   "cell_type": "code",
   "execution_count": null,
   "id": "9b4a6d00",
   "metadata": {},
   "outputs": [],
   "source": []
  },
  {
   "cell_type": "code",
   "execution_count": null,
   "id": "8b1a3f4a",
   "metadata": {},
   "outputs": [],
   "source": []
  },
  {
   "cell_type": "code",
   "execution_count": null,
   "id": "8d18087f",
   "metadata": {},
   "outputs": [],
   "source": []
  },
  {
   "cell_type": "code",
   "execution_count": null,
   "id": "f5d41601",
   "metadata": {},
   "outputs": [],
   "source": []
  }
 ],
 "metadata": {
  "hide_input": false,
  "kernelspec": {
   "display_name": "Python 3 (ipykernel)",
   "language": "python",
   "name": "python3"
  },
  "language_info": {
   "codemirror_mode": {
    "name": "ipython",
    "version": 3
   },
   "file_extension": ".py",
   "mimetype": "text/x-python",
   "name": "python",
   "nbconvert_exporter": "python",
   "pygments_lexer": "ipython3",
   "version": "3.9.7"
  },
  "toc": {
   "base_numbering": 1,
   "nav_menu": {},
   "number_sections": true,
   "sideBar": true,
   "skip_h1_title": false,
   "title_cell": "Table of Contents",
   "title_sidebar": "Contents",
   "toc_cell": false,
   "toc_position": {},
   "toc_section_display": true,
   "toc_window_display": false
  }
 },
 "nbformat": 4,
 "nbformat_minor": 5
}
