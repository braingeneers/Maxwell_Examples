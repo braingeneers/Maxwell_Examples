{
 "cells": [
  {
   "cell_type": "markdown",
   "id": "e9b98799",
   "metadata": {},
   "source": [
    "<font size=7 face=\"Courier\">Maxwell Raw Data Feed - Source Code"
   ]
  },
  {
   "cell_type": "markdown",
   "id": "fb657ec8",
   "metadata": {},
   "source": [
    "This notebook is used to create a raw data feed form the MaxOne device. Code comes from [read_raw.py](/edit/Projects/Maxwell_Controller/closed_loop_2/edited_code/read_raw.py)"
   ]
  },
  {
   "cell_type": "markdown",
   "id": "2b9e0786",
   "metadata": {},
   "source": [
    "# <font color=\"grey\"> Set Up Notebook"
   ]
  },
  {
   "cell_type": "markdown",
   "id": "5a2dd7d3",
   "metadata": {},
   "source": [
    "Import packages Alex's packages"
   ]
  },
  {
   "cell_type": "code",
   "execution_count": null,
   "id": "0f67024b",
   "metadata": {},
   "outputs": [],
   "source": [
    "import sys\n",
    "import zmq\n",
    "import struct\n",
    "import array\n",
    "import numpy as np"
   ]
  },
  {
   "cell_type": "markdown",
   "id": "c868f4e4",
   "metadata": {},
   "source": [
    "Import time. While debugging, we only show data every second so as to not flood the printed output."
   ]
  },
  {
   "cell_type": "code",
   "execution_count": null,
   "id": "0ccd457e",
   "metadata": {},
   "outputs": [],
   "source": [
    "import time"
   ]
  },
  {
   "cell_type": "code",
   "execution_count": null,
   "id": "56736c01",
   "metadata": {},
   "outputs": [],
   "source": [
    "import matplotlib.pyplot as plt"
   ]
  },
  {
   "cell_type": "code",
   "execution_count": null,
   "id": "3316c611",
   "metadata": {},
   "outputs": [],
   "source": [
    "#%matplotlib inline"
   ]
  },
  {
   "cell_type": "markdown",
   "id": "862050ab",
   "metadata": {},
   "source": [
    "# <font color=\"grey\"> Helper Function - Socket Subscriber"
   ]
  },
  {
   "cell_type": "markdown",
   "id": "99f9b183",
   "metadata": {},
   "source": [
    "Generate a subscriber socket with the same settings as the original C++ program."
   ]
  },
  {
   "cell_type": "code",
   "execution_count": null,
   "id": "f3e29e31",
   "metadata": {},
   "outputs": [],
   "source": [
    "def make_socket(port):\n",
    "    '''\n",
    "    Generate a subscriber socket with the same settings as the\n",
    "    original C++ program.\n",
    "    '''\n",
    "\n",
    "    print(f'Acquiring socket {port}... ', end='', flush=True)\n",
    "    subscriber = ctx.socket(zmq.SUB)\n",
    "    subscriber.setsockopt(zmq.RCVHWM, 0)\n",
    "    subscriber.setsockopt(zmq.RCVBUF, 10*20000*1030)\n",
    "    subscriber.setsockopt_string(zmq.SUBSCRIBE, \"\")\n",
    "    subscriber.setsockopt(zmq.RCVTIMEO, 100)\n",
    "    subscriber.connect(f'tcp://localhost:{port}')\n",
    "\n",
    "    more = True\n",
    "    while more:\n",
    "        try:\n",
    "            msg = subscriber.recv()\n",
    "        except zmq.ZMQError as e:\n",
    "            continue\n",
    "        more = subscriber.getsockopt(zmq.RCVMORE)\n",
    "    #print('acquired.', flush=True)\n",
    "\n",
    "    return subscriber"
   ]
  },
  {
   "cell_type": "markdown",
   "id": "e32fa153",
   "metadata": {},
   "source": [
    "# <font color=\"blue\">Raw Data Reader Function"
   ]
  },
  {
   "cell_type": "code",
   "execution_count": null,
   "id": "7ad35e34",
   "metadata": {},
   "outputs": [],
   "source": [
    "\n",
    "ctx = zmq.Context.instance()\n",
    "\n",
    "filt = make_socket(7205)\n",
    "raw = make_socket(7204)\n",
    "time_old = round( time.time() )\n",
    "\n",
    "while True:\n",
    "    # Sometimes the publisher will be interrupted, so don't let that\n",
    "    # crash the entire program, just skip the frame.\n",
    "    frame_number = frame_raw = events_data = filt_data = raw_data = weird_data = None\n",
    "    try:\n",
    "        # The first component of each message is the frame number as\n",
    "        # a long long, so unpack that.\n",
    "        frame_raw = struct.unpack('Q', raw.recv())[0]\n",
    "        frame_number = struct.unpack('Q', filt.recv())[0]\n",
    "\n",
    "        # Grab the frame data from both raw and filtered channels.\n",
    "        if filt.getsockopt(zmq.RCVMORE):\n",
    "            filt_data = filt.recv()\n",
    "        if raw.getsockopt(zmq.RCVMORE):\n",
    "            raw_data = raw.recv()\n",
    "\n",
    "        # Only filtered has spike events; ignore these.\n",
    "        if filt.getsockopt(zmq.RCVMORE):\n",
    "            events_data = filt.recv()\n",
    "\n",
    "        # Looking for extra data.\n",
    "        if raw.getsockopt(zmq.RCVMORE):\n",
    "            #print(frame_number)\n",
    "            while raw.getsockopt(zmq.RCVMORE):\n",
    "                weird_data = raw.recv()\n",
    "                #print(f'There was more data, size {len(weird_data)}.')\n",
    "\n",
    "    except Exception as e:\n",
    "        print(e)  # ! What does this do?\n",
    "        continue\n",
    "\n",
    "    # `frame_data` is a 1027-element array containing the recorded voltage\n",
    "    # at each electrode, so unpack that into a usable format.\n",
    "    filt_arr = np.array(array.array('f', filt_data))\n",
    "    raw_arr = np.array(array.array('f', raw_data))\n",
    "\n",
    "    # Don't bother reading the events in this one, just check the size adn\n",
    "    # frame number of the two floating-point data frames.\n",
    "    time_new =  round( time.time() )\n",
    "    if time_old < time_new:\n",
    "        print(f'Frame #{frame_number} (raw #{frame_raw}, Δ={frame_raw-frame_number}):')\n",
    "        print(f'  raw has {len(raw_arr)} points, from {raw_arr.min()} to {raw_arr.max()}')\n",
    "        print(f' filt has {len(filt_arr)} points, from {filt_arr.min()} to {filt_arr.max()}')\n",
    "        time_old = time_new\n",
    "\n",
    "# If you split this code into multiple threads, e.g. to consolidate\n",
    "# this script with the one that handles the recordings, it will be\n",
    "# necessary to delete each subscriber to the ZMQ context separately\n",
    "# using the usual Python operator `del`, and then terminate the\n",
    "# context with `ctx.term()`. In a single-threaded script like this,\n",
    "# though, it's fine to just let the Python interpreter run all these\n",
    "# destructors when the program terminates."
   ]
  },
  {
   "cell_type": "markdown",
   "id": "01cee910",
   "metadata": {},
   "source": [
    "Run when finished so that we don't get an error message"
   ]
  },
  {
   "cell_type": "code",
   "execution_count": null,
   "id": "ba8b313a",
   "metadata": {},
   "outputs": [],
   "source": [
    "del filt \n",
    "del raw\n",
    "ctx.term()"
   ]
  },
  {
   "cell_type": "code",
   "execution_count": null,
   "id": "dea63883",
   "metadata": {},
   "outputs": [],
   "source": [
    "len(raw_arr)"
   ]
  },
  {
   "cell_type": "code",
   "execution_count": null,
   "id": "dbf4607f",
   "metadata": {},
   "outputs": [],
   "source": [
    "plt.hist( raw_arr.tolist()[:30],3 )\n",
    "plt.show()"
   ]
  },
  {
   "cell_type": "code",
   "execution_count": null,
   "id": "7b0ff027",
   "metadata": {},
   "outputs": [],
   "source": [
    "print(raw_arr.tolist())"
   ]
  },
  {
   "cell_type": "code",
   "execution_count": null,
   "id": "36c8a5e5",
   "metadata": {},
   "outputs": [],
   "source": [
    "min(raw_arr)"
   ]
  },
  {
   "cell_type": "code",
   "execution_count": null,
   "id": "4a44566c",
   "metadata": {},
   "outputs": [],
   "source": [
    "max(raw_arr)"
   ]
  },
  {
   "cell_type": "code",
   "execution_count": null,
   "id": "30ed394d",
   "metadata": {},
   "outputs": [],
   "source": [
    "import numpy as np\n",
    "from scipy import  stats\n",
    "import pandas as pd"
   ]
  },
  {
   "cell_type": "code",
   "execution_count": null,
   "id": "f080ffb8",
   "metadata": {},
   "outputs": [],
   "source": [
    "print(stats.describe(raw_arr.tolist()))"
   ]
  },
  {
   "cell_type": "code",
   "execution_count": null,
   "id": "6fef9c8a",
   "metadata": {},
   "outputs": [],
   "source": [
    "np.std(raw_arr)"
   ]
  },
  {
   "cell_type": "code",
   "execution_count": null,
   "id": "06e364ad",
   "metadata": {},
   "outputs": [],
   "source": [
    "df = pd.DataFrame(raw_arr)\n",
    "df.time_diff.quantile([0.25,0.5,0.75])"
   ]
  },
  {
   "cell_type": "code",
   "execution_count": null,
   "id": "3362c5b3",
   "metadata": {},
   "outputs": [],
   "source": [
    "np.quantile( raw_arr, .25 )"
   ]
  },
  {
   "cell_type": "code",
   "execution_count": null,
   "id": "a3977b8d",
   "metadata": {},
   "outputs": [],
   "source": [
    "np.quantile( raw_arr, .75 )"
   ]
  },
  {
   "cell_type": "code",
   "execution_count": null,
   "id": "4d5162db",
   "metadata": {},
   "outputs": [],
   "source": []
  }
 ],
 "metadata": {
  "hide_input": false,
  "kernelspec": {
   "display_name": "Python 3",
   "language": "python",
   "name": "python3"
  },
  "language_info": {
   "codemirror_mode": {
    "name": "ipython",
    "version": 3
   },
   "file_extension": ".py",
   "mimetype": "text/x-python",
   "name": "python",
   "nbconvert_exporter": "python",
   "pygments_lexer": "ipython3",
   "version": "3.9.5"
  },
  "toc": {
   "base_numbering": 1,
   "nav_menu": {},
   "number_sections": true,
   "sideBar": true,
   "skip_h1_title": false,
   "title_cell": "Table of Contents",
   "title_sidebar": "Contents",
   "toc_cell": false,
   "toc_position": {},
   "toc_section_display": true,
   "toc_window_display": false
  }
 },
 "nbformat": 4,
 "nbformat_minor": 5
}
