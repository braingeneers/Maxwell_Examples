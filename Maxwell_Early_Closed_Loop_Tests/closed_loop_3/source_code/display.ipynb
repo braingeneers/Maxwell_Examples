{
 "cells": [
  {
   "cell_type": "markdown",
   "id": "b7bb6394",
   "metadata": {},
   "source": [
    "<font color=\"magenta\" size=7><i>Maxwell Display"
   ]
  },
  {
   "cell_type": "markdown",
   "id": "27c1d325",
   "metadata": {},
   "source": [
    "This notebooks creates the display for viewing electrodes on the maxwell."
   ]
  },
  {
   "cell_type": "markdown",
   "id": "83dd63f3",
   "metadata": {},
   "source": [
    "**References**\n",
    "\n",
    "* [HTML Canvas JS](https://developer.mozilla.org/en-US/docs/Web/API/CanvasRenderingContext2D/fillStyle)\n",
    "* [HTML Canvas JS - 2](https://developer.mozilla.org/en-US/docs/Web/API/Canvas_API/Tutorial/Applying_styles_and_colors)\n"
   ]
  },
  {
   "cell_type": "markdown",
   "id": "0be3b6be",
   "metadata": {},
   "source": [
    "# <font color=\"gray\">Set Up Notebook"
   ]
  },
  {
   "cell_type": "markdown",
   "id": "c6b857e6",
   "metadata": {},
   "source": [
    "## <font color=\"gray\"> Notes"
   ]
  },
  {
   "cell_type": "markdown",
   "id": "ea653e8d",
   "metadata": {},
   "source": [
    "There are 26400 electrodes on the MaxOne arranged in a $220\\times120$ grid. Below we sho how the electrodes are numberd on the 4 corners of the HTML canvas grid."
   ]
  },
  {
   "cell_type": "markdown",
   "id": "c7d6b852",
   "metadata": {
    "cell_style": "split"
   },
   "source": [
    "Top Left:0\n",
    "\n",
    "Bottom Left: 26180"
   ]
  },
  {
   "cell_type": "markdown",
   "id": "f6bd1c96",
   "metadata": {
    "cell_style": "split"
   },
   "source": [
    "Top Right: 219\n",
    "\n",
    "Bottom Right: 26399"
   ]
  },
  {
   "cell_type": "markdown",
   "id": "4814cdf4",
   "metadata": {},
   "source": [
    "The html canvas is created as a `width=\"2200\"height=\"1200\"` object with each electrode be represented as a 10x10 square"
   ]
  },
  {
   "cell_type": "markdown",
   "id": "1735a16c",
   "metadata": {},
   "source": [
    "max right canvas: 2190 \n",
    "\n",
    "max bottom canvas: 1190"
   ]
  },
  {
   "cell_type": "code",
   "execution_count": null,
   "id": "275169dd",
   "metadata": {},
   "outputs": [],
   "source": [
    "x = 5\n",
    "y = 5"
   ]
  },
  {
   "cell_type": "code",
   "execution_count": null,
   "id": "f584e4df",
   "metadata": {},
   "outputs": [],
   "source": [
    "2200/x"
   ]
  },
  {
   "cell_type": "code",
   "execution_count": null,
   "id": "1bf5d273",
   "metadata": {},
   "outputs": [],
   "source": [
    "1200/y"
   ]
  },
  {
   "cell_type": "code",
   "execution_count": null,
   "id": "f393e674",
   "metadata": {},
   "outputs": [],
   "source": [
    "print(\"Rectangle Area\")\n",
    "print(\"AkA:number of recordings\")\n",
    "x * y"
   ]
  },
  {
   "cell_type": "code",
   "execution_count": null,
   "id": "2cf3cc0b",
   "metadata": {},
   "outputs": [],
   "source": [
    "print(\"Electrodes per recording:\")\n",
    "26400/x/y"
   ]
  },
  {
   "cell_type": "code",
   "execution_count": null,
   "id": "83feaf9e",
   "metadata": {},
   "outputs": [],
   "source": [
    "(1056-1024)*5 * 5"
   ]
  },
  {
   "cell_type": "markdown",
   "id": "a66760c2",
   "metadata": {},
   "source": [
    "## <font color=\"gray\"> Code"
   ]
  },
  {
   "cell_type": "markdown",
   "id": "64da1220",
   "metadata": {},
   "source": [
    "import packages"
   ]
  },
  {
   "cell_type": "code",
   "execution_count": null,
   "id": "0db85e22",
   "metadata": {},
   "outputs": [],
   "source": [
    "from IPython.display import HTML, display, Javascript, clear_output\n",
    "import ipywidgets as widgets\n",
    "\n",
    "#Javascript(\"\"\"\n",
    "#\"\"\")"
   ]
  },
  {
   "cell_type": "markdown",
   "id": "06a988a7",
   "metadata": {},
   "source": [
    "helper function for javascript"
   ]
  },
  {
   "cell_type": "code",
   "execution_count": null,
   "id": "b725f069",
   "metadata": {},
   "outputs": [],
   "source": [
    "def JS(text):\n",
    "    display(HTML(\"<script>\"+text+\"</script>\"))"
   ]
  },
  {
   "cell_type": "markdown",
   "id": "340b90b1",
   "metadata": {},
   "source": [
    "<font color=\"orange\">Once this notebook is done put this line of code at the end so that users know it ran correctly"
   ]
  },
  {
   "cell_type": "code",
   "execution_count": null,
   "id": "3d7b8665",
   "metadata": {},
   "outputs": [],
   "source": [
    "print(\"loaded functions in `display`\")"
   ]
  },
  {
   "cell_type": "markdown",
   "id": "9e18963a",
   "metadata": {},
   "source": [
    "# <font color=\"blue\"> Core Functions"
   ]
  },
  {
   "cell_type": "markdown",
   "id": "baf32aca",
   "metadata": {},
   "source": [
    "## <font color=\"blue\">  Display Graph"
   ]
  },
  {
   "cell_type": "markdown",
   "id": "7d75782f",
   "metadata": {},
   "source": [
    "This function creates create an html canvas called `myCanvas`, which can be called by the javascript."
   ]
  },
  {
   "cell_type": "code",
   "execution_count": null,
   "id": "60cefe24",
   "metadata": {},
   "outputs": [],
   "source": [
    "def graphStart(): \n",
    "    # Create HTML Canvas\n",
    "    cmos_graph =widgets.HTML(\"\"\"\n",
    "    <div class=\"row\">\n",
    "        <div id=\"canvasBox\" class=\"col-xs-12\">\n",
    "            <canvas  id=\"myCanvas\" width=\"2200\"height=\"1200\" style=\" width:100%; height:auto;border:1px solid #000000;\"></canvas>\n",
    "        </div>\n",
    "    </div>\n",
    "    \"\"\") # previously in html: col-md-offset-2 col-md-8 \n",
    "    display(cmos_graph)\n",
    "    \n",
    "    # Add a Javascript controller or the canvas\n",
    "    JS(\"\"\"\n",
    "    var c = document.getElementById('myCanvas');\n",
    "    var ctx = c.getContext('2d');\n",
    "    \"\"\")"
   ]
  },
  {
   "cell_type": "markdown",
   "id": "e3f3096c",
   "metadata": {},
   "source": [
    "## <font color=\"blue\"> Color Electrode"
   ]
  },
  {
   "cell_type": "markdown",
   "id": "bee41ae4",
   "metadata": {},
   "source": [
    "Given an electrode and an intensity we want to color that electrode"
   ]
  },
  {
   "cell_type": "code",
   "execution_count": null,
   "id": "ca658934",
   "metadata": {},
   "outputs": [],
   "source": [
    "def colorElectrode( electrode, intensity, maxIntensity=10):\n",
    "    x = electrode//220 * 10\n",
    "    y = electrode%220 * 10\n",
    "    \n",
    "    #print(maxIntensity)\n",
    "    JS(\"\"\"\n",
    "        var maxIntensity = \"\"\"+str(maxIntensity)+\"\"\";\n",
    "        var intensity = \"\"\"+str(intensity)+\"\"\";\n",
    "        var red = Math.floor( 255 * intensity/maxIntensity );\n",
    "        var blue = Math.floor( 255 * (1 - intensity/maxIntensity) );\n",
    "        ctx.fillStyle = 'rgb('+red +',0,'+blue+')';\n",
    "\n",
    "        ctx.fillRect(\"\"\"+str(y)+\"\"\", \"\"\"+str(x)+\"\"\",  10 , 10);  // (x1,y1,x2,y2)\n",
    "    \"\"\")\n",
    "    "
   ]
  },
  {
   "cell_type": "markdown",
   "id": "f924422a",
   "metadata": {},
   "source": [
    "## <font color=\"blue\"> Color Electrodes"
   ]
  },
  {
   "cell_type": "markdown",
   "id": "f082d127",
   "metadata": {},
   "source": [
    "The above code will crash if we want to color all electrodes, for that, run this code. Electrodes is a list of intensitites represented as integeres."
   ]
  },
  {
   "cell_type": "code",
   "execution_count": null,
   "id": "fd9c59ed",
   "metadata": {},
   "outputs": [],
   "source": [
    "def colorElectrodes( intensities, maxIntensity=10):\n",
    "    #print(maxIntensity)\n",
    "    JS(\"\"\"\n",
    "        var intensities = \"\"\"+str(intensities)+\"\"\";\n",
    "        for (let i = 0; i < 26400; i++) {\n",
    "        \n",
    "            var maxIntensity = \"\"\"+str(maxIntensity)+\"\"\";\n",
    "            var intensity = intensities[i];\n",
    "            var red = Math.floor( 255 * intensity/maxIntensity );\n",
    "            var blue = Math.floor( 255 * (1 - intensity/maxIntensity) );\n",
    "            ctx.fillStyle = 'rgb('+red +',0,'+blue+')';\n",
    "            \n",
    "            var x = Math.floor(i/220) * 10;\n",
    "            var y = i%220 * 10;\n",
    "            ctx.fillRect( y, x, 10, 10);  // (x1,y1,x2,y2)\n",
    "        }\n",
    "    \"\"\")"
   ]
  },
  {
   "cell_type": "markdown",
   "id": "0ff2acaf",
   "metadata": {},
   "source": [
    "## <font color=\"brown\">Test Functions"
   ]
  },
  {
   "cell_type": "markdown",
   "id": "86c736ea",
   "metadata": {},
   "source": [
    "Here we test that the above function ascually work. Run the `graphStart()` functon to create the html canvas. Then  run one of the other cells."
   ]
  },
  {
   "cell_type": "code",
   "execution_count": null,
   "id": "740684dc",
   "metadata": {},
   "outputs": [],
   "source": [
    "#graphStart()"
   ]
  },
  {
   "cell_type": "code",
   "execution_count": null,
   "id": "e84320a6",
   "metadata": {},
   "outputs": [],
   "source": [
    "#import numpy as np\n",
    "#checkit = np.arange(220)/219*10\n",
    "#checkit2 = checkit.tolist()*120\n",
    "#intensities = checkit2\n",
    "#colorElectrodes(intensities)"
   ]
  },
  {
   "cell_type": "code",
   "execution_count": null,
   "id": "e4dd52d7",
   "metadata": {},
   "outputs": [],
   "source": [
    "#colorElectrode(0,10)"
   ]
  },
  {
   "cell_type": "code",
   "execution_count": null,
   "id": "ae4929bb",
   "metadata": {},
   "outputs": [],
   "source": [
    "#intensities = [9]* 26400\n",
    "#colorElectrodes(intensities)"
   ]
  },
  {
   "cell_type": "code",
   "execution_count": null,
   "id": "d21647b3",
   "metadata": {},
   "outputs": [],
   "source": []
  },
  {
   "cell_type": "markdown",
   "id": "bc527ac7",
   "metadata": {},
   "source": [
    "# <font color=\"brown\"> Scratch Paper"
   ]
  },
  {
   "cell_type": "code",
   "execution_count": null,
   "id": "ec24d10a",
   "metadata": {},
   "outputs": [],
   "source": [
    "#graphStart()"
   ]
  },
  {
   "cell_type": "code",
   "execution_count": null,
   "id": "2d6b870f",
   "metadata": {
    "code_folding": []
   },
   "outputs": [],
   "source": [
    "#%%html\n",
    "#<div class=\"row\">\n",
    "#    <!-- canvas that shows racetrack -->\n",
    "##    <div id=\"canvasBox\" class=\"col-xs-12 col-md-offset-2 col-md-8\">\n",
    "#       <canvas  id=\"myCanvas\" width=\"10\"height=\"5\" style=\" width:100%; height:auto;border:1px solid #000000;\"></canvas>\n",
    "#    </div>\n",
    "#</div>"
   ]
  },
  {
   "cell_type": "code",
   "execution_count": null,
   "id": "5336614e",
   "metadata": {},
   "outputs": [],
   "source": [
    "# %%javascript\n",
    "#var c = document.getElementById('myCanvas');\n",
    "#var ctx = c.getContext('2d');\n",
    "\n",
    "#var maxIntensity = 10\n",
    "#var intensity = 10\n",
    "#var red = Math.floor( 255 * intensity/maxIntensity )\n",
    "#var blue = Math.floor( 255 * (1 - intensity/maxIntensity) )\n",
    "#ctx.fillStyle = 'rgb('+red +',0,'+blue+')';\n",
    "\n",
    "#ctx.fillRect(0, 0,  10 , 10);  // (x1,y1,x2,y2)\n",
    "\n"
   ]
  },
  {
   "cell_type": "code",
   "execution_count": null,
   "id": "4373b24d",
   "metadata": {},
   "outputs": [],
   "source": []
  }
 ],
 "metadata": {
  "hide_input": false,
  "kernelspec": {
   "display_name": "Python 3",
   "language": "python",
   "name": "python3"
  },
  "language_info": {
   "codemirror_mode": {
    "name": "ipython",
    "version": 3
   },
   "file_extension": ".py",
   "mimetype": "text/x-python",
   "name": "python",
   "nbconvert_exporter": "python",
   "pygments_lexer": "ipython3",
   "version": "3.9.5"
  },
  "toc": {
   "base_numbering": 1,
   "nav_menu": {},
   "number_sections": true,
   "sideBar": true,
   "skip_h1_title": false,
   "title_cell": "Table of Contents",
   "title_sidebar": "Contents",
   "toc_cell": false,
   "toc_position": {},
   "toc_section_display": true,
   "toc_window_display": false
  }
 },
 "nbformat": 4,
 "nbformat_minor": 5
}
