{
 "cells": [
  {
   "cell_type": "markdown",
   "id": "c120aa5f",
   "metadata": {},
   "source": [
    "<font size=7>Raw Data Feed"
   ]
  },
  {
   "cell_type": "markdown",
   "id": "3a8d2afc",
   "metadata": {},
   "source": [
    "This function streams the raw data from the maxwell device. It uses a generator to pass the data to python as it become available."
   ]
  },
  {
   "cell_type": "markdown",
   "id": "507a38bc",
   "metadata": {},
   "source": [
    "**References**\n",
    "* [Generator Function Tutorial](https://wiki.python.org/moin/Generators)"
   ]
  },
  {
   "cell_type": "markdown",
   "id": "e0e46608",
   "metadata": {},
   "source": [
    "# <font color=\"brown\">Test generator functions"
   ]
  },
  {
   "cell_type": "markdown",
   "id": "182ec9f3",
   "metadata": {},
   "source": [
    "## <font color=\"brown\">Test 1"
   ]
  },
  {
   "cell_type": "markdown",
   "id": "ca0f9a6d",
   "metadata": {},
   "source": [
    "Here I make sure I understand how generator functions work. We generate random data to be fed into the visualizer."
   ]
  },
  {
   "cell_type": "code",
   "execution_count": null,
   "id": "2e9e9030",
   "metadata": {},
   "outputs": [],
   "source": [
    "#import random\n",
    "import numpy as np\n",
    "import time\n",
    "def rawDataFeedTest1():\n",
    "    num = 0\n",
    "    while num < 20:\n",
    "        time.sleep(.2)\n",
    "        data = np.random.choice( range(10), size=26400 ).tolist() # 26400 is the number of electrodes\n",
    "        yield data\n",
    "        num += 1\n",
    "    print(\"done\")"
   ]
  },
  {
   "cell_type": "markdown",
   "id": "92549c8c",
   "metadata": {},
   "source": [
    "## <font color=\"brown\"> Test 2"
   ]
  },
  {
   "cell_type": "markdown",
   "id": "5cc3774f",
   "metadata": {},
   "source": [
    "Here we do the same thing as above, but insert a pretty image half of the time."
   ]
  },
  {
   "cell_type": "code",
   "execution_count": null,
   "id": "226c1f1b",
   "metadata": {},
   "outputs": [],
   "source": [
    "import numpy as np\n",
    "import time\n",
    "def rawDataFeedTest2():\n",
    "    num = 0\n",
    "    while num < 20:\n",
    "        time.sleep(.2)\n",
    "        #if num%2:\n",
    "            #data = np.random.choice( range(10), size=26400 ).tolist() # 26400 is the number of electrodes\n",
    "        #else:\n",
    "        temp = np.arange(220)/219*10\n",
    "        data = temp.tolist()*120\n",
    "        yield data\n",
    "        num += 1\n",
    "    print(\"done\")"
   ]
  },
  {
   "cell_type": "markdown",
   "id": "514081da",
   "metadata": {},
   "source": [
    "## <font color=\"brown\">Test 3"
   ]
  },
  {
   "cell_type": "markdown",
   "id": "00e09b8d",
   "metadata": {},
   "source": [
    "Here we display the activity scan electrodes"
   ]
  },
  {
   "cell_type": "markdown",
   "id": "96ec6c3d",
   "metadata": {},
   "source": [
    "function to grap scans"
   ]
  },
  {
   "cell_type": "code",
   "execution_count": null,
   "id": "fea11e4f",
   "metadata": {},
   "outputs": [],
   "source": [
    "def getScans(space=6):\n",
    "    scans = []\n",
    "\n",
    "    for right_shift in range(space): # How many indices we shift right before we start the scan\n",
    "        for down_shift in range(space):\n",
    "\n",
    "            electrodes = []\n",
    "            most_left = down_shift * 220               #  index that is at the left edge of hte grid for a given row\n",
    "            i_left = right_shift + down_shift * 220    # leftmost index in a row where we collect electrodes\n",
    "\n",
    "            while i_left/220 < 120:              # check that the row which we want to collect electrodes from is not beyond bottom boundary\n",
    "                i = i_left                         # Append leftmost electrode to list, then start moving right to collect more\n",
    "                electrodes.append(i_left)\n",
    "\n",
    "                while i-most_left+space < 220:  # keep moving right until we reach the rightmost boundary \n",
    "                    i += space\n",
    "                    electrodes.append(i)\n",
    "\n",
    "                i_left += 220*space         # once we reach the rightmost boundary, jump down to the next row\n",
    "                most_left += 220*space\n",
    "\n",
    "            scans.append(electrodes)        # add scan to list of scans\n",
    "    return scans"
   ]
  },
  {
   "cell_type": "code",
   "execution_count": null,
   "id": "3f28b99b",
   "metadata": {},
   "outputs": [],
   "source": [
    "\n",
    "def rawDataFeedTest3():\n",
    "    scans = getScans()\n",
    "    for scan in scans:\n",
    "        data = [0]*26400 \n",
    "        for i in scan:\n",
    "            data[i]=10\n",
    "        yield data\n",
    "        time.sleep(.3)\n",
    "    print(\"done\")"
   ]
  },
  {
   "cell_type": "markdown",
   "id": "d5b88cae",
   "metadata": {},
   "source": [
    "# <font color=\"brown\"> Test 4"
   ]
  },
  {
   "cell_type": "code",
   "execution_count": null,
   "id": "f2dea0d6",
   "metadata": {},
   "outputs": [],
   "source": [
    "def rawDataFeedTest4():\n",
    "    new_scan = []\n",
    "    scans = getScans(5)\n",
    "    starter = 1055\n",
    "    for scan in scans:\n",
    "        for i in range(starter,0,-33):\n",
    "            new_scan.append( scan.pop(i) )\n",
    "        starter += -1\n",
    "    scans.append(new_scan)\n",
    "    \n",
    "    for scan in scans:\n",
    "        data = [0]*26400 \n",
    "        for i in scan:\n",
    "            data[i]=10\n",
    "        yield data\n",
    "        time.sleep(.5)\n",
    "    print(\"done\")"
   ]
  },
  {
   "cell_type": "code",
   "execution_count": null,
   "id": "8277a619",
   "metadata": {},
   "outputs": [],
   "source": []
  },
  {
   "cell_type": "markdown",
   "id": "3a626b7e",
   "metadata": {},
   "source": [
    "# <font color=\"blue\">rawDataFeed function <font color=\"red\">Not Done"
   ]
  },
  {
   "cell_type": "code",
   "execution_count": null,
   "id": "16c28ed5",
   "metadata": {},
   "outputs": [],
   "source": [
    "#import random\n",
    "#import time\n",
    "#def rawDataFeed():\n",
    "#    num = 0\n",
    "#    while num < 10:\n",
    "#        time.sleep(.2)\n",
    "#        data = random.sample(range(0, 30), 5)\n",
    "#        yield data\n",
    "#        num += 1"
   ]
  },
  {
   "cell_type": "code",
   "execution_count": null,
   "id": "d6d235db",
   "metadata": {},
   "outputs": [],
   "source": [
    "print(\"loaded function called `rawDataFeed`\")"
   ]
  },
  {
   "cell_type": "code",
   "execution_count": null,
   "id": "c2a29bc8",
   "metadata": {},
   "outputs": [],
   "source": []
  }
 ],
 "metadata": {
  "hide_input": false,
  "kernelspec": {
   "display_name": "Python 3",
   "language": "python",
   "name": "python3"
  },
  "language_info": {
   "codemirror_mode": {
    "name": "ipython",
    "version": 3
   },
   "file_extension": ".py",
   "mimetype": "text/x-python",
   "name": "python",
   "nbconvert_exporter": "python",
   "pygments_lexer": "ipython3",
   "version": "3.9.5"
  },
  "toc": {
   "base_numbering": 1,
   "nav_menu": {},
   "number_sections": true,
   "sideBar": true,
   "skip_h1_title": false,
   "title_cell": "Table of Contents",
   "title_sidebar": "Contents",
   "toc_cell": false,
   "toc_position": {},
   "toc_section_display": true,
   "toc_window_display": false
  }
 },
 "nbformat": 4,
 "nbformat_minor": 5
}
