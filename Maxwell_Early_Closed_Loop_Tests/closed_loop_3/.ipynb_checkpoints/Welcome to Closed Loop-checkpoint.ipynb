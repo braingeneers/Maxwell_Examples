{
 "cells": [
  {
   "cell_type": "markdown",
   "id": "2b2dfd51",
   "metadata": {},
   "source": [
    "<font size=7>Welcome to Maxwell's Closed Loop Controller"
   ]
  },
  {
   "cell_type": "markdown",
   "id": "691f04ff",
   "metadata": {},
   "source": [
    "In this notebook we control the maxwell using a closed loop system"
   ]
  },
  {
   "cell_type": "markdown",
   "id": "da142308",
   "metadata": {},
   "source": [
    "<font color=\"red\"> Currently this notebook is a template that wil be completed later."
   ]
  },
  {
   "cell_type": "markdown",
   "id": "2f190d6e",
   "metadata": {},
   "source": [
    "# <font color=\"gray\"> Set Up Notebook"
   ]
  },
  {
   "cell_type": "code",
   "execution_count": null,
   "id": "f96ae10e",
   "metadata": {},
   "outputs": [],
   "source": [
    "# if we want to use a class\n",
    "#class ClosedLoop:\n",
    "#    dummy=0"
   ]
  },
  {
   "cell_type": "code",
   "execution_count": null,
   "id": "62daa8d3",
   "metadata": {},
   "outputs": [],
   "source": []
  },
  {
   "cell_type": "markdown",
   "id": "f984c7e6",
   "metadata": {},
   "source": [
    "# Get Raw Data"
   ]
  },
  {
   "cell_type": "code",
   "execution_count": null,
   "id": "5620eefb",
   "metadata": {},
   "outputs": [],
   "source": [
    "# Once we put the code in a different file\n",
    "#%run source_code/rawDataFeed.ipynb"
   ]
  },
  {
   "cell_type": "code",
   "execution_count": null,
   "id": "404151b5",
   "metadata": {},
   "outputs": [],
   "source": [
    "# If we want to use a class\n",
    "#ClosedLoop.rawDataFeed = rawDataFeed"
   ]
  },
  {
   "cell_type": "code",
   "execution_count": null,
   "id": "f6b59474",
   "metadata": {},
   "outputs": [],
   "source": [
    "import random\n",
    "import time\n",
    "def rawDataFeed():\n",
    "    num = 0\n",
    "    while num < 10:\n",
    "        time.sleep(1)\n",
    "        data = random.sample(range(0, 30), 5)\n",
    "        yield data\n",
    "        num += 1"
   ]
  },
  {
   "cell_type": "markdown",
   "id": "d388db57",
   "metadata": {},
   "source": [
    "# Proccess Raw Data"
   ]
  },
  {
   "cell_type": "code",
   "execution_count": null,
   "id": "089e9273",
   "metadata": {},
   "outputs": [],
   "source": []
  },
  {
   "cell_type": "code",
   "execution_count": null,
   "id": "5559044f",
   "metadata": {},
   "outputs": [],
   "source": []
  },
  {
   "cell_type": "markdown",
   "id": "4e35af14",
   "metadata": {},
   "source": [
    "# Stimulate Maxwell"
   ]
  },
  {
   "cell_type": "code",
   "execution_count": null,
   "id": "f3614ea5",
   "metadata": {},
   "outputs": [],
   "source": []
  },
  {
   "cell_type": "code",
   "execution_count": null,
   "id": "491afce2",
   "metadata": {},
   "outputs": [],
   "source": []
  },
  {
   "cell_type": "code",
   "execution_count": null,
   "id": "6b42ca53",
   "metadata": {},
   "outputs": [],
   "source": []
  },
  {
   "cell_type": "markdown",
   "id": "6ba95d22",
   "metadata": {},
   "source": [
    "# Display  Live Data"
   ]
  },
  {
   "cell_type": "code",
   "execution_count": null,
   "id": "df73149c",
   "metadata": {},
   "outputs": [],
   "source": []
  },
  {
   "cell_type": "code",
   "execution_count": null,
   "id": "00a23a83",
   "metadata": {},
   "outputs": [],
   "source": []
  },
  {
   "cell_type": "code",
   "execution_count": null,
   "id": "d632eb32",
   "metadata": {},
   "outputs": [],
   "source": []
  },
  {
   "cell_type": "code",
   "execution_count": null,
   "id": "6dfc51ff",
   "metadata": {},
   "outputs": [],
   "source": []
  },
  {
   "cell_type": "code",
   "execution_count": null,
   "id": "e8970726",
   "metadata": {},
   "outputs": [],
   "source": []
  },
  {
   "cell_type": "markdown",
   "id": "39a19caf",
   "metadata": {},
   "source": [
    "# Save Data Stream"
   ]
  },
  {
   "cell_type": "code",
   "execution_count": null,
   "id": "bacac349",
   "metadata": {},
   "outputs": [],
   "source": []
  },
  {
   "cell_type": "code",
   "execution_count": null,
   "id": "aa8cf7cf",
   "metadata": {},
   "outputs": [],
   "source": []
  },
  {
   "cell_type": "code",
   "execution_count": null,
   "id": "b5660b97",
   "metadata": {},
   "outputs": [],
   "source": []
  },
  {
   "cell_type": "markdown",
   "id": "77b54c60",
   "metadata": {},
   "source": [
    "# <font color=\"green\">Run Entire Closed Loop"
   ]
  },
  {
   "cell_type": "code",
   "execution_count": null,
   "id": "8bfed815",
   "metadata": {},
   "outputs": [],
   "source": [
    "def run():\n",
    "    graphsStart()\n",
    "    for data in rawDataFeed() :\n",
    "        #print(data)\n",
    "        time.sleep(.1)"
   ]
  },
  {
   "cell_type": "code",
   "execution_count": null,
   "id": "97a59b3c",
   "metadata": {},
   "outputs": [],
   "source": [
    "# If we wanted to use a class\n",
    "#def run(self):\n",
    "#    for data in self.rawDataFeed() :\n",
    "#        print(data)\n",
    "#        time.sleep(.1)\n",
    "\n",
    "#ClosedLoop.run = run\n",
    "#myLoop = ClosedLoop()\n",
    "#myLoop.run()"
   ]
  },
  {
   "cell_type": "code",
   "execution_count": null,
   "id": "7ab634ee",
   "metadata": {},
   "outputs": [],
   "source": [
    "for (var j = 0; j < 6; j++) { console.log(\"Hello world!\"); }"
   ]
  },
  {
   "cell_type": "code",
   "execution_count": null,
   "id": "c7dfb20c",
   "metadata": {},
   "outputs": [],
   "source": []
  },
  {
   "cell_type": "code",
   "execution_count": null,
   "id": "0d650559",
   "metadata": {},
   "outputs": [],
   "source": [
    "run()"
   ]
  },
  {
   "cell_type": "code",
   "execution_count": null,
   "id": "a22364b9",
   "metadata": {},
   "outputs": [],
   "source": []
  },
  {
   "cell_type": "code",
   "execution_count": null,
   "id": "efa18fe5",
   "metadata": {},
   "outputs": [],
   "source": []
  },
  {
   "cell_type": "code",
   "execution_count": null,
   "id": "50c81b5c",
   "metadata": {},
   "outputs": [],
   "source": []
  }
 ],
 "metadata": {
  "hide_input": false,
  "kernelspec": {
   "display_name": "Python 3",
   "language": "python",
   "name": "python3"
  },
  "language_info": {
   "codemirror_mode": {
    "name": "ipython",
    "version": 3
   },
   "file_extension": ".py",
   "mimetype": "text/x-python",
   "name": "python",
   "nbconvert_exporter": "python",
   "pygments_lexer": "ipython3",
   "version": "3.9.5"
  },
  "toc": {
   "base_numbering": 1,
   "nav_menu": {},
   "number_sections": true,
   "sideBar": true,
   "skip_h1_title": false,
   "title_cell": "Table of Contents",
   "title_sidebar": "Contents",
   "toc_cell": false,
   "toc_position": {},
   "toc_section_display": true,
   "toc_window_display": false
  }
 },
 "nbformat": 4,
 "nbformat_minor": 5
}
