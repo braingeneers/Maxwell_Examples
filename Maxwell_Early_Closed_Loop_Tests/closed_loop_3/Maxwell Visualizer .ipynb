{
 "cells": [
  {
   "cell_type": "markdown",
   "id": "b0b94af3",
   "metadata": {},
   "source": [
    "<font color=\"magenta\" size=7><i>Maxwell Visualizer"
   ]
  },
  {
   "cell_type": "markdown",
   "id": "bb2e6939",
   "metadata": {},
   "source": [
    "This visualizer display raw data live from the MaxOne"
   ]
  },
  {
   "cell_type": "code",
   "execution_count": null,
   "id": "c40e21fc",
   "metadata": {},
   "outputs": [],
   "source": [
    "%run source_code/TestRawDataFeed.ipynb\n",
    "%run source_code/display.ipynb"
   ]
  },
  {
   "cell_type": "code",
   "execution_count": null,
   "id": "83bfc98a",
   "metadata": {},
   "outputs": [],
   "source": [
    "graphStart()\n"
   ]
  },
  {
   "cell_type": "code",
   "execution_count": null,
   "id": "bd95c4b6",
   "metadata": {},
   "outputs": [],
   "source": [
    "for data in rawDataFeedTest4() :\n",
    "    colorElectrodes( data )"
   ]
  },
  {
   "cell_type": "code",
   "execution_count": null,
   "id": "cfe9fd6d",
   "metadata": {},
   "outputs": [],
   "source": []
  },
  {
   "cell_type": "code",
   "execution_count": null,
   "id": "57e8e4e6",
   "metadata": {},
   "outputs": [],
   "source": []
  },
  {
   "cell_type": "code",
   "execution_count": null,
   "id": "853ab316",
   "metadata": {},
   "outputs": [],
   "source": []
  },
  {
   "cell_type": "code",
   "execution_count": null,
   "id": "cf8d05d6",
   "metadata": {},
   "outputs": [],
   "source": []
  },
  {
   "cell_type": "code",
   "execution_count": null,
   "id": "16dd02a3",
   "metadata": {},
   "outputs": [],
   "source": []
  },
  {
   "cell_type": "code",
   "execution_count": null,
   "id": "6f324df6",
   "metadata": {},
   "outputs": [],
   "source": []
  },
  {
   "cell_type": "code",
   "execution_count": null,
   "id": "726fb3b4",
   "metadata": {},
   "outputs": [],
   "source": []
  }
 ],
 "metadata": {
  "hide_input": false,
  "kernelspec": {
   "display_name": "Python 3",
   "language": "python",
   "name": "python3"
  },
  "language_info": {
   "codemirror_mode": {
    "name": "ipython",
    "version": 3
   },
   "file_extension": ".py",
   "mimetype": "text/x-python",
   "name": "python",
   "nbconvert_exporter": "python",
   "pygments_lexer": "ipython3",
   "version": "3.9.5"
  },
  "toc": {
   "base_numbering": 1,
   "nav_menu": {},
   "number_sections": true,
   "sideBar": true,
   "skip_h1_title": false,
   "title_cell": "Table of Contents",
   "title_sidebar": "Contents",
   "toc_cell": false,
   "toc_position": {},
   "toc_section_display": true,
   "toc_window_display": false
  }
 },
 "nbformat": 4,
 "nbformat_minor": 5
}
