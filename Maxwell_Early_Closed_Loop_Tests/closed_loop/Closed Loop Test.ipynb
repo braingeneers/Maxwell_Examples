{
 "cells": [
  {
   "cell_type": "markdown",
   "id": "641f32ba",
   "metadata": {},
   "source": [
    "<font color=\"magenta\" size=7>Closed Loop Test"
   ]
  },
  {
   "cell_type": "markdown",
   "id": "3f15a275",
   "metadata": {},
   "source": [
    "Here the team is troubleshooting the closed loop code that maxwell sent to us. Lets see if we can get it working!"
   ]
  },
  {
   "cell_type": "markdown",
   "id": "14303a6e",
   "metadata": {},
   "source": [
    "# Compile C++ Script"
   ]
  },
  {
   "cell_type": "markdown",
   "id": "a2abfc1d",
   "metadata": {},
   "source": [
    "Use this command to run the c++ code\n",
    "`g++ close_loop.cpp -lzmq -o closeLoop`"
   ]
  },
  {
   "cell_type": "markdown",
   "id": "e8762720",
   "metadata": {},
   "source": [
    "This creates an exectuable file called `closeLoop`"
   ]
  },
  {
   "cell_type": "code",
   "execution_count": null,
   "id": "36e4fa7e",
   "metadata": {},
   "outputs": [],
   "source": []
  },
  {
   "cell_type": "markdown",
   "id": "dc1c2248",
   "metadata": {},
   "source": [
    "# Update Files"
   ]
  },
  {
   "cell_type": "markdown",
   "id": "0f35a15d",
   "metadata": {},
   "source": [
    "The python file, `closeLoopSetup.py` use an older version of the API than what we currently have. We udpated the code to the latest version."
   ]
  },
  {
   "cell_type": "markdown",
   "id": "289a6a71",
   "metadata": {},
   "source": [
    "<font color=\"red\">Currently the C++ files, `close_loop.cpp` is not responding. Currently, the best guess is that it is listening to the wrong port."
   ]
  },
  {
   "cell_type": "code",
   "execution_count": null,
   "id": "dc1fbdbe",
   "metadata": {},
   "outputs": [],
   "source": []
  },
  {
   "cell_type": "markdown",
   "id": "7c2757ba",
   "metadata": {},
   "source": [
    "# Run Code"
   ]
  },
  {
   "cell_type": "markdown",
   "id": "84bf4586",
   "metadata": {},
   "source": [
    "To run the code open a terminal and first run the python file using:\n",
    "\n",
    "`python3 closeLoopSetup.py`"
   ]
  },
  {
   "cell_type": "markdown",
   "id": "0976b055",
   "metadata": {},
   "source": [
    "Then open another terminal window and run the c++ file using:\n",
    "\n",
    "`./close_loop 810`"
   ]
  },
  {
   "cell_type": "markdown",
   "id": "ef28d281",
   "metadata": {},
   "source": [
    "# <font color=\"brown\">Scratch Paper"
   ]
  },
  {
   "cell_type": "markdown",
   "id": "6404a3cc",
   "metadata": {},
   "source": [
    "Figure out functions inside of maxlab"
   ]
  },
  {
   "cell_type": "code",
   "execution_count": null,
   "id": "be7822c1",
   "metadata": {},
   "outputs": [],
   "source": [
    "import maxlab.chip"
   ]
  },
  {
   "cell_type": "code",
   "execution_count": null,
   "id": "90fb695d",
   "metadata": {},
   "outputs": [],
   "source": [
    "dir(maxlab.chip.StimulationUnit)"
   ]
  },
  {
   "cell_type": "code",
   "execution_count": null,
   "id": "557ed4e6",
   "metadata": {},
   "outputs": [],
   "source": [
    "!pwd"
   ]
  },
  {
   "cell_type": "code",
   "execution_count": null,
   "id": "87f642e0",
   "metadata": {},
   "outputs": [],
   "source": [
    "data_path = '/home/mxwbio/wetai/homepage/Projects/Maxwell_Controller/closed_loop/closed_loop'"
   ]
  },
  {
   "cell_type": "code",
   "execution_count": null,
   "id": "0239b352",
   "metadata": {},
   "outputs": [],
   "source": []
  },
  {
   "cell_type": "code",
   "execution_count": null,
   "id": "ad90c6ca",
   "metadata": {},
   "outputs": [],
   "source": []
  }
 ],
 "metadata": {
  "hide_input": false,
  "kernelspec": {
   "display_name": "Python 3",
   "language": "python",
   "name": "python3"
  },
  "language_info": {
   "codemirror_mode": {
    "name": "ipython",
    "version": 3
   },
   "file_extension": ".py",
   "mimetype": "text/x-python",
   "name": "python",
   "nbconvert_exporter": "python",
   "pygments_lexer": "ipython3",
   "version": "3.9.5"
  },
  "toc": {
   "base_numbering": 1,
   "nav_menu": {},
   "number_sections": true,
   "sideBar": true,
   "skip_h1_title": false,
   "title_cell": "Table of Contents",
   "title_sidebar": "Contents",
   "toc_cell": false,
   "toc_position": {},
   "toc_section_display": true,
   "toc_window_display": false
  }
 },
 "nbformat": 4,
 "nbformat_minor": 5
}
