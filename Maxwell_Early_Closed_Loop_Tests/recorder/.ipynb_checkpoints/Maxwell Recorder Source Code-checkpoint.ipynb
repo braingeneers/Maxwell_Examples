{
 "cells": [
  {
   "cell_type": "markdown",
   "id": "1306b85a",
   "metadata": {},
   "source": [
    "<font size=6 color=\"magenta\"><i><b>WetAI Maxwell Recording Source Code"
   ]
  },
  {
   "cell_type": "markdown",
   "id": "48e40677",
   "metadata": {},
   "source": [
    "This code is used to record ephys data from the MaxOne device. The majority of this code comes from [basicCommands.py](/edit/Projects/Maxwell_Controller/reference/examples/basicCommands.py)"
   ]
  },
  {
   "cell_type": "markdown",
   "id": "a77b30d5",
   "metadata": {},
   "source": [
    "# <font color=\"gray\">Set Up Notebook"
   ]
  },
  {
   "cell_type": "markdown",
   "id": "39a4b553",
   "metadata": {},
   "source": [
    "import maxwell packages"
   ]
  },
  {
   "cell_type": "code",
   "execution_count": null,
   "id": "2e9591bc",
   "metadata": {},
   "outputs": [],
   "source": [
    "#!/usr/bin/python\n",
    "import maxlab\n",
    "import maxlab.system\n",
    "import maxlab.chip\n",
    "import maxlab.util\n",
    "import maxlab.saving"
   ]
  },
  {
   "cell_type": "markdown",
   "id": "08787ef5",
   "metadata": {},
   "source": [
    "import general packages"
   ]
  },
  {
   "cell_type": "code",
   "execution_count": null,
   "id": "4de28cc1",
   "metadata": {},
   "outputs": [],
   "source": [
    "import os\n",
    "import tempfile\n",
    "import time"
   ]
  },
  {
   "cell_type": "markdown",
   "id": "5b77f665",
   "metadata": {},
   "source": [
    "Set port for communication"
   ]
  },
  {
   "cell_type": "code",
   "execution_count": null,
   "id": "24fd2d40",
   "metadata": {},
   "outputs": [],
   "source": [
    "port = 7215"
   ]
  },
  {
   "cell_type": "markdown",
   "id": "bcde39f6",
   "metadata": {},
   "source": [
    "# Create Config File"
   ]
  },
  {
   "cell_type": "markdown",
   "id": "4c21f9a0",
   "metadata": {},
   "source": [
    "The config file determines what electrodes we record and stimulate from. The code below save a dumm config file into the folder, `config`."
   ]
  },
  {
   "cell_type": "markdown",
   "id": "99bc20aa",
   "metadata": {},
   "source": [
    "**Config Reference**\n",
    "* View more information on `maxlab.chip.Array` in the [reference website](view/Projects/Maxwell_Controller/reference/website/index.html)\n",
    "* Config files can also be created using the Maxwell GUI, see the [user manual](http://128.114.78.146:8888/files/Projects/Maxwell_Controller/reference/MaxLabLive_Manual.pdf)\n",
    "* Config files are saved on the maxwell computer in the folder `/home/mxwbio/configs`. You can use these.\n",
    "* *You don't need a config file*, could just run `maxlab.chip.Array('online')` and set electrodes there."
   ]
  },
  {
   "cell_type": "code",
   "execution_count": null,
   "id": "0a3d01d6",
   "metadata": {},
   "outputs": [],
   "source": [
    "array = maxlab.chip.Array('online')\n",
    "array.reset()\n",
    "array.select_electrodes( [11110, 11111, 11112] )\n",
    "#array.select_stimulation_electrodes( [11330, 11331, 11332] )\n",
    "array.route()\n",
    "#array.connect_electrode_to_stimulation( 11330 )\n",
    "#array.connect_electrode_to_stimulation( 11331 )\n",
    "#array.connect_electrode_to_stimulation( 11332 )\n",
    "array.save_config(\"config/test_config.cfg\")"
   ]
  },
  {
   "cell_type": "markdown",
   "id": "2fd473de",
   "metadata": {},
   "source": [
    "# Run Maxwell Test Code"
   ]
  },
  {
   "cell_type": "markdown",
   "id": "6f637648",
   "metadata": {},
   "source": [
    "This test code comes from [basicCommands.py](http://128.114.78.146:8888/edit/Projects/Maxwell_Controller/reference/examples/basicCommands.py)"
   ]
  },
  {
   "cell_type": "markdown",
   "id": "8a5065ed",
   "metadata": {},
   "source": [
    "Set file destintation and runtime parameters."
   ]
  },
  {
   "cell_type": "code",
   "execution_count": null,
   "id": "51c0a8a2",
   "metadata": {},
   "outputs": [],
   "source": [
    "name_of_configuration = '/home/mxwbio/wetai/homepage/Projects/Maxwell_Controller/recorder/config/test_config.cfg'\n",
    "data_path = '/home/mxwbio/wetai/homepage/Projects/Maxwell_Controller/recorder/data'\n",
    "recording_length = 60. # Recording length in seconds\n",
    "recording_file_name = \"Test_2020_10_09\" \n",
    "use_legacy_write = True\n",
    "record_only_spikes = False\n",
    "wells = range(1)            # range(1) for MaxOne"
   ]
  },
  {
   "cell_type": "markdown",
   "id": "3dbd49e3",
   "metadata": {},
   "source": [
    "Initialize the device"
   ]
  },
  {
   "cell_type": "code",
   "execution_count": null,
   "id": "c58c9fc7",
   "metadata": {},
   "outputs": [],
   "source": [
    "maxlab.util.initialize()"
   ]
  },
  {
   "cell_type": "markdown",
   "id": "41bb3c91",
   "metadata": {},
   "source": [
    "Load config file"
   ]
  },
  {
   "cell_type": "code",
   "execution_count": null,
   "id": "053a9057",
   "metadata": {},
   "outputs": [],
   "source": [
    "array = maxlab.chip.Array('online')\n",
    "array.load_config(name_of_configuration)\n",
    "array.download()\n",
    "maxlab.util.offset()   # <- Dunno what this line does, was in example"
   ]
  },
  {
   "cell_type": "markdown",
   "id": "2fa40925",
   "metadata": {},
   "source": [
    "Do recording"
   ]
  },
  {
   "cell_type": "code",
   "execution_count": null,
   "id": "bbfa0e89",
   "metadata": {},
   "outputs": [],
   "source": [
    "# Set up file and wells for recording. Then start.\n",
    "# I don't truly understand this code, it's just taken from the example\n",
    "s = maxlab.saving.Saving()\n",
    "s.open_directory(data_path)\n",
    "s.set_legacy_format(use_legacy_write)\n",
    "s.group_delete_all()\n",
    "if not record_only_spikes:\n",
    "    for well in wells:\n",
    "        s.group_define(well, \"routed\")\n",
    "s.start_file(recording_file_name)\n",
    "s.start_recording(wells)\n",
    "\n",
    "# Record for 60 seconds, then stop and save.\n",
    "for i in range(6):\n",
    "    time.sleep(10)\n",
    "    print((i+1)*10)\n",
    "s.stop_recording()\n",
    "s.stop_file()\n",
    "s.group_delete_all()"
   ]
  },
  {
   "cell_type": "markdown",
   "id": "5dac22a3",
   "metadata": {},
   "source": [
    "# <font color=\"brown\">Scratch Paper"
   ]
  },
  {
   "cell_type": "markdown",
   "id": "8d80fd49",
   "metadata": {},
   "source": [
    "Try to display to user how much time has passed while recording occures"
   ]
  },
  {
   "cell_type": "code",
   "execution_count": null,
   "id": "84a3f1b5",
   "metadata": {},
   "outputs": [],
   "source": [
    "#for i in range(6):\n",
    "#    time.sleep(10)\n",
    "#    print((i+1)*10)"
   ]
  },
  {
   "cell_type": "code",
   "execution_count": null,
   "id": "fbb703fa",
   "metadata": {},
   "outputs": [],
   "source": [
    "#while recording_length >0:\n",
    "#    recording_length =- 10\n",
    "    "
   ]
  },
  {
   "cell_type": "code",
   "execution_count": null,
   "id": "17978fe5",
   "metadata": {},
   "outputs": [],
   "source": []
  },
  {
   "cell_type": "code",
   "execution_count": null,
   "id": "1045b05c",
   "metadata": {},
   "outputs": [],
   "source": []
  },
  {
   "cell_type": "code",
   "execution_count": null,
   "id": "854c0fcd",
   "metadata": {},
   "outputs": [],
   "source": []
  }
 ],
 "metadata": {
  "hide_input": false,
  "kernelspec": {
   "display_name": "Python 3 (ipykernel)",
   "language": "python",
   "name": "python3"
  },
  "language_info": {
   "codemirror_mode": {
    "name": "ipython",
    "version": 3
   },
   "file_extension": ".py",
   "mimetype": "text/x-python",
   "name": "python",
   "nbconvert_exporter": "python",
   "pygments_lexer": "ipython3",
   "version": "3.9.7"
  },
  "toc": {
   "base_numbering": 1,
   "nav_menu": {},
   "number_sections": true,
   "sideBar": true,
   "skip_h1_title": false,
   "title_cell": "Table of Contents",
   "title_sidebar": "Contents",
   "toc_cell": false,
   "toc_position": {},
   "toc_section_display": true,
   "toc_window_display": false
  }
 },
 "nbformat": 4,
 "nbformat_minor": 5
}
