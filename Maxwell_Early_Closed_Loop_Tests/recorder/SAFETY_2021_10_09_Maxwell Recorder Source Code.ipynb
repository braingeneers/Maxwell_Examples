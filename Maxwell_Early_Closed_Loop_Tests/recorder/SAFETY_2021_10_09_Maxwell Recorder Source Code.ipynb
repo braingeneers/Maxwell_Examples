{
 "cells": [
  {
   "cell_type": "markdown",
   "id": "1306b85a",
   "metadata": {},
   "source": [
    "<font size=6 color=\"magenta\"><i><b>WetAI Maxwell Recording Source Code"
   ]
  },
  {
   "cell_type": "markdown",
   "id": "48e40677",
   "metadata": {},
   "source": [
    "This code is used to record ephys data from the MaxOne device."
   ]
  },
  {
   "cell_type": "markdown",
   "id": "a77b30d5",
   "metadata": {},
   "source": [
    "# <font color=\"gray\">Set Up Notebook"
   ]
  },
  {
   "cell_type": "markdown",
   "id": "39a4b553",
   "metadata": {},
   "source": [
    "import maxwell packages"
   ]
  },
  {
   "cell_type": "code",
   "execution_count": null,
   "id": "2e9591bc",
   "metadata": {},
   "outputs": [],
   "source": [
    "#!/usr/bin/python\n",
    "import maxlab\n",
    "import maxlab.system\n",
    "import maxlab.chip\n",
    "import maxlab.util\n",
    "import maxlab.saving"
   ]
  },
  {
   "cell_type": "markdown",
   "id": "08787ef5",
   "metadata": {},
   "source": [
    "import general packages"
   ]
  },
  {
   "cell_type": "code",
   "execution_count": null,
   "id": "4de28cc1",
   "metadata": {},
   "outputs": [],
   "source": [
    "import os\n",
    "import tempfile\n",
    "import time"
   ]
  },
  {
   "cell_type": "markdown",
   "id": "5b77f665",
   "metadata": {},
   "source": [
    "Set port for communication"
   ]
  },
  {
   "cell_type": "code",
   "execution_count": null,
   "id": "24fd2d40",
   "metadata": {},
   "outputs": [],
   "source": [
    "port = 7215\n",
    "#port = int(os.environ['MXW_BASE_PORT']) + 15"
   ]
  },
  {
   "cell_type": "code",
   "execution_count": null,
   "id": "116b8718",
   "metadata": {},
   "outputs": [],
   "source": []
  },
  {
   "cell_type": "markdown",
   "id": "2fd473de",
   "metadata": {},
   "source": [
    "# Run Maxwell Test Code"
   ]
  },
  {
   "cell_type": "markdown",
   "id": "6f637648",
   "metadata": {},
   "source": [
    "This code can be found in the `basicCommands.py` file. Located in the directory, "
   ]
  },
  {
   "cell_type": "code",
   "execution_count": null,
   "id": "18521ae1",
   "metadata": {},
   "outputs": [],
   "source": [
    "## How to load configurations and run recordings\n",
    "#\n",
    "#\n",
    "# 0. Initialize system into a defined state\n",
    "#\n",
    "#    It is best to initialize the system into a defined state beforefile:///usr/share/doc/HTML/index.html\n",
    "#    Starting any script. This way, one can be sure that the system\n",
    "#    is always in the same state while running the script, regardless\n",
    "#    of what has been done before with it.\n",
    "#\n",
    "#\n",
    "# 1. Load your electrode selection\n",
    "#\n",
    "#    We use an existing config file to route the electrodes of interest.\n",
    "#\n",
    "# 2. Start a recording\n",
    "#\n",
    "#    Once we are ready to start an experiment e.g. a stimulation protocol\n",
    "#    we can start a recording.\n",
    "#\n",
    "# 3. Stop and store the recording\n",
    "#\n",
    "#    When our experiment is done, we can stop the recording and store the data\n",
    "#    at a location of our choice.\n",
    "#\n",
    "#\n",
    "\n",
    "#Create a temp file\n",
    "#dir = tempfile.mktemp()\n",
    "#fifoFile = os.mkfifo(dir + \"myfifo.hdf5\")"
   ]
  },
  {
   "cell_type": "code",
   "execution_count": null,
   "id": "51c0a8a2",
   "metadata": {},
   "outputs": [],
   "source": [
    "######################################################################\n",
    "# User Input\n",
    "######################################################################\n",
    "\n",
    "# Input the path to the config file you want to use\n",
    "name_of_configuration = ''\n",
    "# Input the path of the directory where the recording and sequence log should be stored\n",
    "data_path = '/home/mxwbio/data/'\n",
    "# Input the name the recording file should have\n",
    "recording_file_name = \"Maxwell_noFifo_Legacy\" #fifoFile #'fifoFile'\n",
    "# Input your choice of data format (True for legacy format)\n",
    "use_legacy_write = True\n",
    "# Input wheter you want to record spikes only, or signals as well\n",
    "record_only_spikes = False\n",
    "# Input how many wells you want to record from (range(1) for MaxOne, range(6) for MaxTwo)\n",
    "wells = range(1)\n",
    "\n"
   ]
  },
  {
   "cell_type": "code",
   "execution_count": null,
   "id": "c58c9fc7",
   "metadata": {},
   "outputs": [],
   "source": [
    "\n",
    "# 0. Initialize system into a defined state\n",
    "maxlab.util.initialize()\n",
    "\n",
    "# If we want to stimulate during our experiment, we also issue the following command:\n",
    "#\n",
    "#    maxlab.send(maxlab.chip.Core().enable_stimulation_power(True))\n",
    "#\n",
    "# This is needed, because by default the stimulation units are\n",
    "# powered off globally..."
   ]
  },
  {
   "cell_type": "code",
   "execution_count": null,
   "id": "053a9057",
   "metadata": {},
   "outputs": [],
   "source": [
    "######################################################################\n",
    "# 1. Load your electrode selection\n",
    "######################################################################\n",
    "\n",
    "array = maxlab.chip.Array('online')\n",
    "#array.load_config(name_of_configuration)\n",
    "\n",
    "# After loading the configuration, we could also add more recording or stimulation\n",
    "# electrodes. Once everything is setup according to our needs, we need to download\n",
    "# the prepared array configuration to the chip\n",
    "array.download()\n",
    "maxlab.util.offset()"
   ]
  },
  {
   "cell_type": "code",
   "execution_count": null,
   "id": "bbfa0e89",
   "metadata": {},
   "outputs": [],
   "source": [
    "######################################################################\n",
    "# 2. Start a recording\n",
    "######################################################################\n",
    "# Now that the chip is ready, we start the recording and perform our experiment.\n",
    "s = maxlab.saving.Saving()\n",
    "s.open_directory(data_path)\n",
    "s.set_legacy_format(use_legacy_write)\n",
    "# If we use the new data format and also store the signal traces, we must declare which electrodes\n",
    "# we want to store data from. This can be set through the group_define function which has the following form:\n",
    "# s.group_define(well_nr, \"any_name\", list_of_channels_to_record_from)\n",
    "# e.g s.group_define(0, \"all_channels\", range(1024)) will store data from all 1024 channels\n",
    "# for the first well and store in the group 'all_channels'.\n",
    "# In case you need, you can also define multiple groups for same recording, with a set of channels.\n",
    "# These groups can also have overlapping channels. For example if you stimulate on channel 200:\n",
    "# s.group_define(0, \"stim_channel\", [200])\n",
    "# s.group_define(0, \"all\", range(1024))\n",
    "s.group_delete_all()\n",
    "if not record_only_spikes:\n",
    "\tfor well in wells:\n",
    "\t\ts.group_define(well, \"routed\")\n",
    "\n",
    "s.start_file(recording_file_name)\n",
    "s.start_recording(wells)\n",
    "# Sleep for the amount of recording time + buffer time during which the experiment will run\n",
    "time.sleep(60)"
   ]
  },
  {
   "cell_type": "code",
   "execution_count": null,
   "id": "5a48c5ec",
   "metadata": {},
   "outputs": [],
   "source": [
    "######################################################################\n",
    "# 3. Stop and store the recording\n",
    "######################################################################\n",
    "# After our experiment is over, we just need to stop the recording and store everything.\n",
    "# The recording should now be available  at data_path/recording_file_name and can be loaded\n",
    "# into MaxLab Live.\n",
    "s.stop_recording()\n",
    "s.stop_file()\n",
    "s.group_delete_all()"
   ]
  },
  {
   "cell_type": "code",
   "execution_count": null,
   "id": "84a3f1b5",
   "metadata": {},
   "outputs": [],
   "source": []
  }
 ],
 "metadata": {
  "hide_input": false,
  "kernelspec": {
   "display_name": "Python 3",
   "language": "python",
   "name": "python3"
  },
  "language_info": {
   "codemirror_mode": {
    "name": "ipython",
    "version": 3
   },
   "file_extension": ".py",
   "mimetype": "text/x-python",
   "name": "python",
   "nbconvert_exporter": "python",
   "pygments_lexer": "ipython3",
   "version": "3.9.5"
  },
  "toc": {
   "base_numbering": 1,
   "nav_menu": {},
   "number_sections": true,
   "sideBar": true,
   "skip_h1_title": false,
   "title_cell": "Table of Contents",
   "title_sidebar": "Contents",
   "toc_cell": false,
   "toc_position": {},
   "toc_section_display": true,
   "toc_window_display": false
  }
 },
 "nbformat": 4,
 "nbformat_minor": 5
}
