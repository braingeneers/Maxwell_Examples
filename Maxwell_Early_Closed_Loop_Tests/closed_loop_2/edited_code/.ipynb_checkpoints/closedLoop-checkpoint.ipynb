{
 "cells": [
  {
   "cell_type": "code",
   "execution_count": null,
   "id": "3ba54265",
   "metadata": {},
   "outputs": [],
   "source": []
  },
  {
   "cell_type": "code",
   "execution_count": null,
   "id": "f0840d51",
   "metadata": {},
   "outputs": [],
   "source": [
    "import zmq\n",
    "import struct\n",
    "\n",
    "\n",
    "ctx = zmq.Context.instance()\n",
    "\n",
    "# Generate the subscriber sockets with the same settings\n",
    "# as the original C++ program.\n",
    "subscriber = ctx.socket(zmq.SUB)\n",
    "subscriber.setsockopt(zmq.RCVHWM, 0)\n",
    "subscriber.setsockopt(zmq.RCVBUF, 10*20000*1030)\n",
    "subscriber.setsockopt_string(zmq.SUBSCRIBE, \"\")\n",
    "subscriber.setsockopt(zmq.RCVTIMEO, 100)\n",
    "subscriber.connect('tcp://localhost:7205')\n",
    "\n",
    "# Also generate a similar API socket.\n",
    "# api_socket = ctx.socket(zmq.REQ)\n",
    "# api_socket.setsockopt(zmq.RCVTIMEO, -1)\n",
    "# api_socket.connect('tcp://localhost:7210')\n",
    "\n",
    "# This first loop seems to perform synchronization.\n",
    "while True:\n",
    "    try:\n",
    "        msg = subscriber.recv()\n",
    "    except:\n",
    "        continue\n",
    "\n",
    "    more = subscriber.getsockopt(zmq.RCVMORE)\n",
    "    if not more:\n",
    "        break\n",
    "\n",
    "while True:\n",
    "    # Sometimes the publisher will be interrupted, so don't\n",
    "    # let that crash the entire program.\n",
    "    frame_number = frame_data = events_data = None\n",
    "    try:\n",
    "        frame_number = struct.unpack('Q', subscriber.recv())[0]\n",
    "\n",
    "        # We're still ignoring the frame data, but we have to\n",
    "        # get it out from the data stream.\n",
    "        if subscriber.getsockopt(zmq.RCVMORE):\n",
    "            frame_data = subscriber.recv()\n",
    "\n",
    "        # This is the one that stores all the spikes.\n",
    "        if subscriber.getsockopt(zmq.RCVMORE):\n",
    "            events_data = subscriber.recv()\n",
    "\n",
    "    except Exception as e:\n",
    "        print(e)\n",
    "        continue\n",
    "\n",
    "    events = []\n",
    "    if events_data is not None:\n",
    "        for i in range(0, len(events_data), 24):\n",
    "            events.append(struct.unpack('8xLif',\n",
    "                events_data[i:i+24]))\n",
    "    if len(events) > 0:\n",
    "        print(events)\n",
    "\n",
    "del subscriber\n",
    "ctx.term()"
   ]
  },
  {
   "cell_type": "code",
   "execution_count": null,
   "id": "8d2baa0a",
   "metadata": {},
   "outputs": [],
   "source": []
  },
  {
   "cell_type": "code",
   "execution_count": null,
   "id": "2fa1e170",
   "metadata": {},
   "outputs": [],
   "source": []
  },
  {
   "cell_type": "code",
   "execution_count": null,
   "id": "2f693927",
   "metadata": {},
   "outputs": [],
   "source": []
  },
  {
   "cell_type": "code",
   "execution_count": null,
   "id": "f069d786",
   "metadata": {},
   "outputs": [],
   "source": []
  }
 ],
 "metadata": {
  "hide_input": false,
  "kernelspec": {
   "display_name": "Python 3",
   "language": "python",
   "name": "python3"
  },
  "language_info": {
   "codemirror_mode": {
    "name": "ipython",
    "version": 3
   },
   "file_extension": ".py",
   "mimetype": "text/x-python",
   "name": "python",
   "nbconvert_exporter": "python",
   "pygments_lexer": "ipython3",
   "version": "3.9.5"
  },
  "toc": {
   "base_numbering": 1,
   "nav_menu": {},
   "number_sections": true,
   "sideBar": true,
   "skip_h1_title": false,
   "title_cell": "Table of Contents",
   "title_sidebar": "Contents",
   "toc_cell": false,
   "toc_position": {},
   "toc_section_display": true,
   "toc_window_display": false
  }
 },
 "nbformat": 4,
 "nbformat_minor": 5
}
